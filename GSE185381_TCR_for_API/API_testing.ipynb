{
 "cells": [
  {
   "cell_type": "code",
   "execution_count": 1,
   "metadata": {},
   "outputs": [],
   "source": [
    "from clonotype_analyses.analyses import ClonotypeToolkits\n",
    "from clonotype_analyses.analyses import ClonotypePreprocessing"
   ]
  },
  {
   "cell_type": "code",
   "execution_count": 2,
   "metadata": {},
   "outputs": [],
   "source": [
    "import os\n",
    "\n",
    "batch_info = []\n",
    "for i in os.listdir('clinical_metadata'):\n",
    "\tprefix = i.replace('_clinical_metadata.tsv', '')\n",
    "\ttmp_dct = {\n",
    "\t\t'sample_name': prefix,\n",
    "\t\t'vdj_path': 'clonotypes/filtered_clonotypes/{}_vdj_t_filtered_contig_annotations.csv'.format(prefix),\n",
    "\t\t'clinical_meta_path': 'clinical_metadata/{}_clinical_metadata.tsv'.format(prefix),\n",
    "\t}\n",
    "\tbatch_info.append(tmp_dct)"
   ]
  },
  {
   "cell_type": "code",
   "execution_count": 3,
   "metadata": {},
   "outputs": [
    {
     "data": {
      "text/plain": [
       "[{'sample_name': 'GSM5613816_2021-04-29-0102_cDNA',\n",
       "  'vdj_path': 'clonotypes/filtered_clonotypes/GSM5613816_2021-04-29-0102_cDNA_vdj_t_filtered_contig_annotations.csv',\n",
       "  'clinical_meta_path': 'clinical_metadata/GSM5613816_2021-04-29-0102_cDNA_clinical_metadata.tsv'},\n",
       " {'sample_name': 'GSM5613808_2020-03-18-52-Dx',\n",
       "  'vdj_path': 'clonotypes/filtered_clonotypes/GSM5613808_2020-03-18-52-Dx_vdj_t_filtered_contig_annotations.csv',\n",
       "  'clinical_meta_path': 'clinical_metadata/GSM5613808_2020-03-18-52-Dx_clinical_metadata.tsv'}]"
      ]
     },
     "execution_count": 3,
     "metadata": {},
     "output_type": "execute_result"
    }
   ],
   "source": [
    "batch_info[:2]"
   ]
  },
  {
   "cell_type": "code",
   "execution_count": 4,
   "metadata": {},
   "outputs": [
    {
     "name": "stdout",
     "output_type": "stream",
     "text": [
      "NOTE: barcodes (first column) of vdj and clinical_meta MUST have similar items\n"
     ]
    }
   ],
   "source": [
    "preprocessing_object = ClonotypePreprocessing(\n",
    "\tbatch_info=batch_info\n",
    ")"
   ]
  },
  {
   "cell_type": "code",
   "execution_count": 5,
   "metadata": {},
   "outputs": [
    {
     "ename": "TypeError",
     "evalue": "ClonotypePreprocessing.ingest_data() missing 2 required positional arguments: 'ouput_vdj_h5_path' and 'ouput_clinical_h5_path'",
     "output_type": "error",
     "traceback": [
      "\u001b[0;31m---------------------------------------------------------------------------\u001b[0m",
      "\u001b[0;31mTypeError\u001b[0m                                 Traceback (most recent call last)",
      "Cell \u001b[0;32mIn[5], line 1\u001b[0m\n\u001b[0;32m----> 1\u001b[0m \u001b[43mpreprocessing_object\u001b[49m\u001b[38;5;241;43m.\u001b[39;49m\u001b[43mingest_data\u001b[49m\u001b[43m(\u001b[49m\u001b[43m)\u001b[49m\n",
      "\u001b[0;31mTypeError\u001b[0m: ClonotypePreprocessing.ingest_data() missing 2 required positional arguments: 'ouput_vdj_h5_path' and 'ouput_clinical_h5_path'"
     ]
    }
   ],
   "source": [
    "preprocessing_object.ingest_data(\n",
    "\touput_vdj_h5_path='vdj_h5.h5',\n",
    "\touput_clinical_h5_path='clinical_h5.h5',\n",
    "\n",
    ")"
   ]
  },
  {
   "cell_type": "code",
   "execution_count": null,
   "metadata": {},
   "outputs": [],
   "source": []
  }
 ],
 "metadata": {
  "kernelspec": {
   "display_name": "Python 3",
   "language": "python",
   "name": "python3"
  },
  "language_info": {
   "codemirror_mode": {
    "name": "ipython",
    "version": 3
   },
   "file_extension": ".py",
   "mimetype": "text/x-python",
   "name": "python",
   "nbconvert_exporter": "python",
   "pygments_lexer": "ipython3",
   "version": "3.11.5"
  }
 },
 "nbformat": 4,
 "nbformat_minor": 2
}
