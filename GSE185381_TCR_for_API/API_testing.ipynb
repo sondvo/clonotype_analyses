{
 "cells": [
  {
   "cell_type": "code",
   "execution_count": 1,
   "metadata": {},
   "outputs": [],
   "source": [
    "from clonotype_analyses.analyses import ClonotypeToolkits\n",
    "from clonotype_analyses.analyses import ClonotypePreprocessing"
   ]
  },
  {
   "cell_type": "code",
   "execution_count": 2,
   "metadata": {},
   "outputs": [],
   "source": [
    "import os\n",
    "\n",
    "batch_info = []\n",
    "for i in os.listdir('clinical_metadata'):\n",
    "\tprefix = i.replace('_clinical_metadata.tsv', '')\n",
    "\ttmp_dct = {\n",
    "\t\t'sample_name': prefix,\n",
    "\t\t'vdj_path': 'clonotypes/filtered_clonotypes/{}_vdj_t_filtered_contig_annotations.csv'.format(prefix),\n",
    "\t\t'clinical_meta_path': 'clinical_metadata/{}_clinical_metadata.tsv'.format(prefix),\n",
    "\t}\n",
    "\tbatch_info.append(tmp_dct)"
   ]
  },
  {
   "cell_type": "code",
   "execution_count": 3,
   "metadata": {},
   "outputs": [
    {
     "data": {
      "text/plain": [
       "[{'sample_name': 'GSM5613816_2021-04-29-0102_cDNA',\n",
       "  'vdj_path': 'clonotypes/filtered_clonotypes/GSM5613816_2021-04-29-0102_cDNA_vdj_t_filtered_contig_annotations.csv',\n",
       "  'clinical_meta_path': 'clinical_metadata/GSM5613816_2021-04-29-0102_cDNA_clinical_metadata.tsv'},\n",
       " {'sample_name': 'GSM5613808_2020-03-18-52-Dx',\n",
       "  'vdj_path': 'clonotypes/filtered_clonotypes/GSM5613808_2020-03-18-52-Dx_vdj_t_filtered_contig_annotations.csv',\n",
       "  'clinical_meta_path': 'clinical_metadata/GSM5613808_2020-03-18-52-Dx_clinical_metadata.tsv'}]"
      ]
     },
     "execution_count": 3,
     "metadata": {},
     "output_type": "execute_result"
    }
   ],
   "source": [
    "batch_info[:2]"
   ]
  },
  {
   "cell_type": "code",
   "execution_count": 4,
   "metadata": {},
   "outputs": [
    {
     "name": "stdout",
     "output_type": "stream",
     "text": [
      "NOTE: barcodes (first column) of vdj and clinical_meta MUST have similar items\n"
     ]
    }
   ],
   "source": [
    "preprocessing_object = ClonotypePreprocessing(\n",
    "\tbatch_info=batch_info\n",
    ")"
   ]
  },
  {
   "cell_type": "code",
   "execution_count": 5,
   "metadata": {},
   "outputs": [
    {
     "name": "stderr",
     "output_type": "stream",
     "text": [
      "/usr/local/lib/python3.11/site-packages/clonotype_analyses/common/__init__.py:118: FutureWarning: The behavior of DataFrame concatenation with empty or all-NA entries is deprecated. In a future version, this will no longer exclude empty or all-NA columns when determining the result dtypes. To retain the old behavior, exclude the relevant entries before the concat operation.\n",
      "  final_df = pd.concat([final_df, df], **kwargs)\n"
     ]
    },
    {
     "data": {
      "text/plain": [
       "{'10X_VDJ': 'vdj_h5.h5', 'clinical_meta': 'clinical_h5.h5'}"
      ]
     },
     "execution_count": 5,
     "metadata": {},
     "output_type": "execute_result"
    }
   ],
   "source": [
    "preprocessing_object.ingest_data(\n",
    "\touput_vdj_h5_path='vdj_h5.h5',\n",
    "\touput_clinical_h5_path='clinical_h5.h5'\n",
    ")"
   ]
  },
  {
   "cell_type": "code",
   "execution_count": 7,
   "metadata": {},
   "outputs": [],
   "source": [
    "toolkits = ClonotypeToolkits(\n",
    "\tvdj_h5_path='vdj_h5.h5',\n",
    "\tclinical_h5_path='clinical_h5.h5',\n",
    ")"
   ]
  },
  {
   "cell_type": "code",
   "execution_count": 9,
   "metadata": {},
   "outputs": [
    {
     "ename": "KeyError",
     "evalue": "\"Unable to open object (object 'barcode' doesn't exist)\"",
     "output_type": "error",
     "traceback": [
      "\u001b[0;31m---------------------------------------------------------------------------\u001b[0m",
      "\u001b[0;31mKeyError\u001b[0m                                  Traceback (most recent call last)",
      "Cell \u001b[0;32mIn[9], line 1\u001b[0m\n\u001b[0;32m----> 1\u001b[0m \u001b[43mtoolkits\u001b[49m\u001b[38;5;241;43m.\u001b[39;49m\u001b[43mmatplotlib_clonotypes_QC_fraction\u001b[49m\u001b[43m(\u001b[49m\u001b[43mmeta_keys\u001b[49m\u001b[38;5;241;43m=\u001b[39;49m\u001b[43m[\u001b[49m\u001b[38;5;124;43m'\u001b[39;49m\u001b[38;5;124;43mCondition\u001b[39;49m\u001b[38;5;124;43m'\u001b[39;49m\u001b[43m]\u001b[49m\u001b[43m)\u001b[49m\n",
      "File \u001b[0;32m/usr/local/lib/python3.11/site-packages/clonotype_analyses/analyses.py:169\u001b[0m, in \u001b[0;36mClonotypeToolkits.matplotlib_clonotypes_QC_fraction\u001b[0;34m(self, meta_keys)\u001b[0m\n\u001b[1;32m    154\u001b[0m \u001b[38;5;28;01mdef\u001b[39;00m \u001b[38;5;21mmatplotlib_clonotypes_QC_fraction\u001b[39m(\u001b[38;5;28mself\u001b[39m, meta_keys\u001b[38;5;241m=\u001b[39m[]):\n\u001b[1;32m    155\u001b[0m \u001b[38;5;250m\t\u001b[39m\u001b[38;5;124;03m\"\"\"\u001b[39;00m\n\u001b[1;32m    156\u001b[0m \u001b[38;5;124;03m\tVisualize fraction of paired / ambiguous clonotypes separated by metadata fields\\n\u001b[39;00m\n\u001b[1;32m    157\u001b[0m \n\u001b[0;32m   (...)\u001b[0m\n\u001b[1;32m    167\u001b[0m \u001b[38;5;124;03m\tMatplotlib image\u001b[39;00m\n\u001b[1;32m    168\u001b[0m \u001b[38;5;124;03m\t\"\"\"\u001b[39;00m\n\u001b[0;32m--> 169\u001b[0m \tfraction_clo_df, merged_meta_key \u001b[38;5;241m=\u001b[39m \u001b[38;5;28;43mself\u001b[39;49m\u001b[38;5;241;43m.\u001b[39;49m\u001b[43m_prepare_clonotypes_QC_fraction\u001b[49m\u001b[43m(\u001b[49m\u001b[43mmeta_keys\u001b[49m\u001b[43m)\u001b[49m\n\u001b[1;32m    170\u001b[0m \t\u001b[38;5;28;01mreturn\u001b[39;00m clonotypes_QC_fraction\u001b[38;5;241m.\u001b[39mvisualize_ratio_clonotype_types(fraction_clo_df, merged_meta_key)\n",
      "File \u001b[0;32m/usr/local/lib/python3.11/site-packages/clonotype_analyses/analyses.py:146\u001b[0m, in \u001b[0;36mClonotypeToolkits._prepare_clonotypes_QC_fraction\u001b[0;34m(self, meta_keys)\u001b[0m\n\u001b[1;32m    143\u001b[0m \u001b[38;5;28;01mif\u001b[39;00m \u001b[38;5;129;01mnot\u001b[39;00m \u001b[38;5;28mlen\u001b[39m(meta_keys):\n\u001b[1;32m    144\u001b[0m \t\u001b[38;5;28;01mraise\u001b[39;00m \u001b[38;5;167;01mException\u001b[39;00m(\u001b[38;5;124m'\u001b[39m\u001b[38;5;124mNeed at least one meta column to compare\u001b[39m\u001b[38;5;124m'\u001b[39m)\n\u001b[0;32m--> 146\u001b[0m vdj_df \u001b[38;5;241m=\u001b[39m \u001b[43mprocessing\u001b[49m\u001b[38;5;241;43m.\u001b[39;49m\u001b[43mh5_to_pandas\u001b[49m\u001b[43m(\u001b[49m\u001b[38;5;28;43mself\u001b[39;49m\u001b[38;5;241;43m.\u001b[39;49m\u001b[43m__vdj_h5_path\u001b[49m\u001b[43m,\u001b[49m\u001b[43m \u001b[49m\u001b[43m[\u001b[49m\u001b[43mVDJ_10X_COLUMNS\u001b[49m\u001b[38;5;241;43m.\u001b[39;49m\u001b[43mCHAIN\u001b[49m\u001b[38;5;241;43m.\u001b[39;49m\u001b[43mvalue\u001b[49m\u001b[43m]\u001b[49m\u001b[43m)\u001b[49m\n\u001b[1;32m    147\u001b[0m clinical_df \u001b[38;5;241m=\u001b[39m processing\u001b[38;5;241m.\u001b[39mh5_to_pandas(\u001b[38;5;28mself\u001b[39m\u001b[38;5;241m.\u001b[39m__clinical_h5_path, meta_keys)\n\u001b[1;32m    148\u001b[0m vdj_df, clinical_df \u001b[38;5;241m=\u001b[39m processing\u001b[38;5;241m.\u001b[39mmatching_barcodes(vdj_df, clinical_df)\n",
      "File \u001b[0;32m/usr/local/lib/python3.11/site-packages/clonotype_analyses/compute/processing.py:69\u001b[0m, in \u001b[0;36mh5_to_pandas\u001b[0;34m(h5_path, columns)\u001b[0m\n\u001b[1;32m     67\u001b[0m meta_dct \u001b[38;5;241m=\u001b[39m {}\n\u001b[1;32m     68\u001b[0m \u001b[38;5;28;01mwith\u001b[39;00m h5py\u001b[38;5;241m.\u001b[39mFile(h5_path) \u001b[38;5;28;01mas\u001b[39;00m f:\n\u001b[0;32m---> 69\u001b[0m \tbc \u001b[38;5;241m=\u001b[39m \u001b[43mf\u001b[49m\u001b[43m[\u001b[49m\u001b[43mVDJ_10X_COLUMNS\u001b[49m\u001b[38;5;241;43m.\u001b[39;49m\u001b[43mBARCODES\u001b[49m\u001b[38;5;241;43m.\u001b[39;49m\u001b[43mvalue\u001b[49m\u001b[43m]\u001b[49m[:]\u001b[38;5;241m.\u001b[39mastype(\u001b[38;5;124m'\u001b[39m\u001b[38;5;124mstr\u001b[39m\u001b[38;5;124m'\u001b[39m)\n\u001b[1;32m     70\u001b[0m \t\u001b[38;5;28;01mfor\u001b[39;00m i \u001b[38;5;129;01min\u001b[39;00m columns:\n\u001b[1;32m     71\u001b[0m \t\t\u001b[38;5;28;01mif\u001b[39;00m i \u001b[38;5;241m==\u001b[39m VDJ_10X_COLUMNS\u001b[38;5;241m.\u001b[39mBARCODES\u001b[38;5;241m.\u001b[39mvalue:\n",
      "File \u001b[0;32mh5py/_objects.pyx:54\u001b[0m, in \u001b[0;36mh5py._objects.with_phil.wrapper\u001b[0;34m()\u001b[0m\n",
      "File \u001b[0;32mh5py/_objects.pyx:55\u001b[0m, in \u001b[0;36mh5py._objects.with_phil.wrapper\u001b[0;34m()\u001b[0m\n",
      "File \u001b[0;32m/usr/local/lib/python3.11/site-packages/h5py/_hl/group.py:357\u001b[0m, in \u001b[0;36mGroup.__getitem__\u001b[0;34m(self, name)\u001b[0m\n\u001b[1;32m    355\u001b[0m         \u001b[38;5;28;01mraise\u001b[39;00m \u001b[38;5;167;01mValueError\u001b[39;00m(\u001b[38;5;124m\"\u001b[39m\u001b[38;5;124mInvalid HDF5 object reference\u001b[39m\u001b[38;5;124m\"\u001b[39m)\n\u001b[1;32m    356\u001b[0m \u001b[38;5;28;01melif\u001b[39;00m \u001b[38;5;28misinstance\u001b[39m(name, (\u001b[38;5;28mbytes\u001b[39m, \u001b[38;5;28mstr\u001b[39m)):\n\u001b[0;32m--> 357\u001b[0m     oid \u001b[38;5;241m=\u001b[39m \u001b[43mh5o\u001b[49m\u001b[38;5;241;43m.\u001b[39;49m\u001b[43mopen\u001b[49m\u001b[43m(\u001b[49m\u001b[38;5;28;43mself\u001b[39;49m\u001b[38;5;241;43m.\u001b[39;49m\u001b[43mid\u001b[49m\u001b[43m,\u001b[49m\u001b[43m \u001b[49m\u001b[38;5;28;43mself\u001b[39;49m\u001b[38;5;241;43m.\u001b[39;49m\u001b[43m_e\u001b[49m\u001b[43m(\u001b[49m\u001b[43mname\u001b[49m\u001b[43m)\u001b[49m\u001b[43m,\u001b[49m\u001b[43m \u001b[49m\u001b[43mlapl\u001b[49m\u001b[38;5;241;43m=\u001b[39;49m\u001b[38;5;28;43mself\u001b[39;49m\u001b[38;5;241;43m.\u001b[39;49m\u001b[43m_lapl\u001b[49m\u001b[43m)\u001b[49m\n\u001b[1;32m    358\u001b[0m \u001b[38;5;28;01melse\u001b[39;00m:\n\u001b[1;32m    359\u001b[0m     \u001b[38;5;28;01mraise\u001b[39;00m \u001b[38;5;167;01mTypeError\u001b[39;00m(\u001b[38;5;124m\"\u001b[39m\u001b[38;5;124mAccessing a group is done with bytes or str, \u001b[39m\u001b[38;5;124m\"\u001b[39m\n\u001b[1;32m    360\u001b[0m                     \u001b[38;5;124m\"\u001b[39m\u001b[38;5;124mnot \u001b[39m\u001b[38;5;132;01m{}\u001b[39;00m\u001b[38;5;124m\"\u001b[39m\u001b[38;5;241m.\u001b[39mformat(\u001b[38;5;28mtype\u001b[39m(name)))\n",
      "File \u001b[0;32mh5py/_objects.pyx:54\u001b[0m, in \u001b[0;36mh5py._objects.with_phil.wrapper\u001b[0;34m()\u001b[0m\n",
      "File \u001b[0;32mh5py/_objects.pyx:55\u001b[0m, in \u001b[0;36mh5py._objects.with_phil.wrapper\u001b[0;34m()\u001b[0m\n",
      "File \u001b[0;32mh5py/h5o.pyx:241\u001b[0m, in \u001b[0;36mh5py.h5o.open\u001b[0;34m()\u001b[0m\n",
      "\u001b[0;31mKeyError\u001b[0m: \"Unable to open object (object 'barcode' doesn't exist)\""
     ]
    }
   ],
   "source": [
    "toolkits.matplotlib_clonotypes_QC_fraction(meta_keys=['Condition'])"
   ]
  },
  {
   "cell_type": "code",
   "execution_count": null,
   "metadata": {},
   "outputs": [],
   "source": []
  }
 ],
 "metadata": {
  "kernelspec": {
   "display_name": "Python 3",
   "language": "python",
   "name": "python3"
  },
  "language_info": {
   "codemirror_mode": {
    "name": "ipython",
    "version": 3
   },
   "file_extension": ".py",
   "mimetype": "text/x-python",
   "name": "python",
   "nbconvert_exporter": "python",
   "pygments_lexer": "ipython3",
   "version": "3.11.5"
  }
 },
 "nbformat": 4,
 "nbformat_minor": 2
}
